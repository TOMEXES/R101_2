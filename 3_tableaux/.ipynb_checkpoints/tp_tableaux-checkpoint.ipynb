{
 "cells": [
  {
   "cell_type": "markdown",
   "id": "5044cff5",
   "metadata": {
    "deletable": false,
    "editable": false,
    "run_control": {
     "frozen": true
    }
   },
   "source": [
    "# TP 2 : Listes en Python"
   ]
  },
  {
   "cell_type": "code",
   "execution_count": null,
   "id": "10bab74e",
   "metadata": {},
   "outputs": [],
   "source": [
    "from time import time\n",
    "\n",
    "# Pour dessiner des courbes\n",
    "from matplotlib.pyplot import plot, show, legend, xlabel, ylabel"
   ]
  },
  {
   "cell_type": "markdown",
   "id": "e90da3f3",
   "metadata": {
    "deletable": false,
    "editable": false,
    "run_control": {
     "frozen": true
    }
   },
   "source": [
    "## Exercice 1 :  Copie inversée d'un tableau"
   ]
  },
  {
   "cell_type": "markdown",
   "id": "e0398315",
   "metadata": {
    "deletable": false,
    "editable": false,
    "run_control": {
     "frozen": true
    }
   },
   "source": [
    "On souhaite comparer plusieurs algorithmes permettant de créer une copie d'un tableau dans laquelle l'ordre des éléments est inversé. Par exemple, la copie inversée du tableau `[1, 2, 3, 4]` est un nouveau tableau contenant les valeurs `[4, 3, 2, 1]`. On souhaite implémenter et tester trois algorithmes."
   ]
  },
  {
   "cell_type": "markdown",
   "id": "fc2d0ce4",
   "metadata": {
    "deletable": false,
    "editable": false,
    "run_control": {
     "frozen": true
    }
   },
   "source": [
    "### Algorithme 1\n",
    "\n",
    "Le premier algorithme parcourt le tableau en entrée de gauche à droite. Il insère chaque valeur au début du nouveau tableau.\n",
    "\n",
    "Définir la fonction `copie_inversion1` prenant en paramètre un tableau et retournant une copie inversée de ce tableau en utilisant l'algorithme 1. Cette fonction doit vérifier les tests unitaires donnés ci-dessous."
   ]
  },
  {
   "cell_type": "code",
   "execution_count": null,
   "id": "9c54a80d",
   "metadata": {
    "tags": [
     "answer"
    ]
   },
   "outputs": [],
   "source": [
    "############################## \n",
    "#   Saisir votre code ici.   #\n",
    "##############################\n",
    "\n",
    "\n"
   ]
  },
  {
   "cell_type": "code",
   "execution_count": null,
   "id": "220391a9",
   "metadata": {},
   "outputs": [],
   "source": [
    "def test_copie_inversion1():\n",
    "    assert copie_inversion1([]) == []\n",
    "    assert copie_inversion1([1]) == [1]\n",
    "    t = [1, 2, 3, 4, 5]\n",
    "    assert copie_inversion1(t) == [5, 4, 3, 2 , 1]\n",
    "    assert t == [1, 2, 3, 4, 5]\n",
    "    assert copie_inversion1(copie_inversion1([1, 5, 7, 3, 4, 8, 90])) == [1, 5, 7, 3, 4, 8, 90]\n",
    "    print(\"Test de la fonction copie_inversion1 : ok\")\n",
    "    \n",
    "test_copie_inversion1()"
   ]
  },
  {
   "cell_type": "markdown",
   "id": "0f9d76d3",
   "metadata": {
    "deletable": false,
    "editable": false,
    "run_control": {
     "frozen": true
    }
   },
   "source": [
    "### Algorithme 2\n",
    "\n",
    "L'algorithme parcourt les valeurs du tableau en entrée de droite à gauche. Il insère chaque valeur à la fin du nouveau tableau.\n",
    "\n",
    "Définir la fonction `copie_inversion2` prenant en paramètre un tableau et retournant une copie inversée de ce tableau en utilisant l'algorithme 2. Cette fonction doit vérifier les tests unitaires donnés ci-dessous."
   ]
  },
  {
   "cell_type": "code",
   "execution_count": null,
   "id": "9fb650a3",
   "metadata": {
    "tags": [
     "answer"
    ]
   },
   "outputs": [],
   "source": [
    "############################## \n",
    "#   Saisir votre code ici.   #\n",
    "##############################\n",
    "\n",
    "\n"
   ]
  },
  {
   "cell_type": "code",
   "execution_count": null,
   "id": "2e46b7df",
   "metadata": {},
   "outputs": [],
   "source": [
    "def test_copie_inversion2():\n",
    "    assert copie_inversion2([]) == []\n",
    "    assert copie_inversion2([1]) == [1]\n",
    "    t = [1, 2, 3, 4, 5]\n",
    "    assert copie_inversion2(t) == [5, 4, 3, 2 , 1]\n",
    "    assert t == [1, 2, 3, 4, 5]\n",
    "    assert copie_inversion2(copie_inversion2([1, 5, 7, 3, 4, 8, 90])) == [1, 5, 7, 3, 4, 8, 90]\n",
    "    print(\"Test de la fonction copie_inversion2 : ok\")\n",
    "    \n",
    "test_copie_inversion2()"
   ]
  },
  {
   "cell_type": "markdown",
   "id": "59357f93",
   "metadata": {
    "deletable": false,
    "editable": false,
    "run_control": {
     "frozen": true
    }
   },
   "source": [
    "### Algorithme 3\n",
    "\n",
    "L'algorithme crée une copie du tableau en entrée. Il inverse ensuite les valeurs du nouveau tableau.\n",
    "\n",
    "Définir la fonction `copie_inversion3` prenant en paramètre un tableau et retournant une copie inversée de ce tableau en utilisant l'algorithme 3. Cette fonction doit vérifier les tests unitaires donnés ci-dessous."
   ]
  },
  {
   "cell_type": "code",
   "execution_count": null,
   "id": "9e029af2",
   "metadata": {
    "tags": [
     "answer"
    ]
   },
   "outputs": [],
   "source": [
    "############################## \n",
    "#   Saisir votre code ici.   #\n",
    "##############################\n",
    "\n",
    "\n"
   ]
  },
  {
   "cell_type": "code",
   "execution_count": null,
   "id": "e5e54a36",
   "metadata": {},
   "outputs": [],
   "source": [
    "def test_copie_inversion3():\n",
    "    assert copie_inversion3([]) == []\n",
    "    assert copie_inversion3([1]) == [1]\n",
    "    t = [1, 2, 3, 4, 5]\n",
    "    assert copie_inversion3(t) == [5, 4, 3, 2 , 1]\n",
    "    assert t == [1, 2, 3, 4, 5]\n",
    "    assert copie_inversion3(copie_inversion3([1, 5, 7, 3, 4, 8, 90])) == [1, 5, 7, 3, 4, 8, 90]\n",
    "    print(\"Test de la fonction copie_inversion3 : ok\")\n",
    "    \n",
    "test_copie_inversion3()"
   ]
  },
  {
   "cell_type": "markdown",
   "id": "4a50ba30",
   "metadata": {
    "deletable": false,
    "editable": false,
    "run_control": {
     "frozen": true
    }
   },
   "source": [
    "### Question 4\n",
    "\n",
    "Quelles sont les complexités asymptotiques des trois algorithmes ?\n",
    "\n",
    "Le code ci-dessous mesure le temps d'exécution pour les trois algorithmes pour des tableaux de taille :  100, 500, 1000, 5000, 10000, 20000. La cellule d'après permet de dessiner les courbes des temps d'exécution pour les trois algorithmes.\n",
    "\n",
    "Les mesures expérimentales correspondent-elles aux complexités théoriques ?"
   ]
  },
  {
   "cell_type": "code",
   "execution_count": null,
   "id": "9520f583",
   "metadata": {},
   "outputs": [],
   "source": [
    "def mesure_copie_inversion1(n):\n",
    "    \"\"\"Retourne le temps moyen (20 mesures) d'exécution en secondes \n",
    "    pour créer une copie inverse avec l'algorithme 1 pour un tableau de taille n.\n",
    "    \"\"\"\n",
    "    tab = list(range(n))\n",
    "    temps = 0.\n",
    "    i = 0\n",
    "    while i < 20:\n",
    "        depart = time()\n",
    "        copie_inversion1(tab)\n",
    "        temps += time()-depart\n",
    "        i += 1\n",
    "    return temps / 20\n",
    "\n",
    "def mesure_copie_inversion2(n):\n",
    "    \"\"\"Retourne le temps moyen (20 mesures) d'exécution en secondes \n",
    "    pour créer une copie inverse avec l'algorithme 2 pour un tableau de taille n.\n",
    "    \"\"\"    \n",
    "    tab = list(range(n))\n",
    "    temps = 0.\n",
    "    i = 0\n",
    "    while i < 20:\n",
    "        depart = time()\n",
    "        copie_inversion2(tab)\n",
    "        temps += time()-depart\n",
    "        i += 1\n",
    "    return temps / 20\n",
    "\n",
    "\n",
    "def mesure_copie_inversion3(n):\n",
    "    \"\"\"Retourne le temps moyen (20 mesures) d'exécution en secondes \n",
    "    pour créer une copie inverse avec l'algorithme 3 pour un tableau de taille n.\n",
    "    \"\"\"\n",
    "    \n",
    "    tab = list(range(n))\n",
    "    temps = 0.\n",
    "    i = 0\n",
    "    while i < 20:\n",
    "        depart = time()\n",
    "        copie_inversion3(tab)\n",
    "        temps += time()-depart\n",
    "        i += 1\n",
    "    return temps / 20\n",
    "\n",
    "\n",
    "tailles = [2000, 4000, 6000, 8000, 10000, 12000, 14000, 16000, 18000, 20000]\n",
    "\n",
    "\n",
    "tps1 = []\n",
    "tps2 = []\n",
    "tps3 = []\n",
    "i = 0\n",
    "while i < len(tailles):\n",
    "    tps1.append(mesure_copie_inversion1(tailles[i]))\n",
    "    tps2.append(mesure_copie_inversion2(tailles[i]))\n",
    "    tps3.append(mesure_copie_inversion3(tailles[i]))\n",
    "    i += 1"
   ]
  },
  {
   "cell_type": "code",
   "execution_count": null,
   "id": "14ed5198",
   "metadata": {},
   "outputs": [],
   "source": [
    "%matplotlib inline\n",
    "\n",
    "\n",
    "plot(tailles, tps1, \"b\", label=\"Algorithme 1\")\n",
    "plot(tailles, tps2, \"r\", label=\"Algorithme 2\")\n",
    "plot(tailles, tps3, \"g\", label=\"Algorithme 3\")\n",
    "\n",
    "\n",
    "xlabel(\"Tailles des tableaux\")\n",
    "ylabel(\"Tps d'exécution en secondes\")\n",
    "legend()"
   ]
  },
  {
   "cell_type": "markdown",
   "id": "562cc193",
   "metadata": {
    "tags": [
     "answer"
    ]
   },
   "source": [
    "**Réponse :** Écrire votre réponse ici.\n",
    "\n",
    "\n"
   ]
  },
  {
   "cell_type": "markdown",
   "id": "8cb7d635",
   "metadata": {
    "deletable": false,
    "editable": false,
    "run_control": {
     "frozen": true
    }
   },
   "source": [
    "## Exercice 2 : Suppression de valeurs dans un tableau**"
   ]
  },
  {
   "cell_type": "markdown",
   "id": "1cb261f4",
   "metadata": {
    "deletable": false,
    "editable": false,
    "run_control": {
     "frozen": true
    }
   },
   "source": [
    "Définir une fonction `supprime_occurences` qui prend en paramètre un tableau et une valeur et supprime toutes les occurences de cette valeur dans le tableau (l'ordre des valeurs dans le tableau est conservé). \n",
    "\n",
    "Par exemple, après l'appel de cette fonction avec le tableau `[1, 2, 4, 2, 3, 1, 5, 2]` et la valeur 2, le tableau est égal à `[1, 4, 3, 1, 5]`.\n",
    "\n",
    "La fonction doit vérifier les tests unitaires définis ci-dessous.\n",
    "\n",
    "**Remarque :** il existe un algorithme pour supprimer les occurences d'une valeur dans un tableau avec une complexité linéaire."
   ]
  },
  {
   "cell_type": "code",
   "execution_count": null,
   "id": "06599fcd",
   "metadata": {
    "tags": [
     "answer"
    ]
   },
   "outputs": [],
   "source": [
    "############################## \n",
    "#   Saisir votre code ici.   #\n",
    "##############################\n",
    "\n",
    "\n"
   ]
  },
  {
   "cell_type": "code",
   "execution_count": null,
   "id": "8da01052",
   "metadata": {},
   "outputs": [],
   "source": [
    "def test_supprime_occurences():\n",
    "    liste = [1, 1, 1, 1]\n",
    "    supprime_occurences(liste, 1) \n",
    "    assert liste == []\n",
    "    \n",
    "    liste = [4, 4, 5, 4]\n",
    "    supprime_occurences(liste, 4) \n",
    "    assert liste == [5]\n",
    "    \n",
    "    liste = [1, 2, 4, 2, 3, 1, 5, 2]\n",
    "    supprime_occurences(liste, 2) \n",
    "    assert liste == [1, 4, 3, 1, 5]\n",
    "    \n",
    "    print(\"Test de la fonction supprime_occurences : ok\")\n",
    "    \n",
    "test_supprime_occurences()"
   ]
  },
  {
   "cell_type": "markdown",
   "id": "5c800f9a",
   "metadata": {
    "deletable": false,
    "editable": false,
    "run_control": {
     "frozen": true
    }
   },
   "source": [
    "## Exercice 3 : Réorganisation d'un tableau"
   ]
  },
  {
   "cell_type": "markdown",
   "id": "5f417588",
   "metadata": {
    "deletable": false,
    "editable": false,
    "run_control": {
     "frozen": true
    }
   },
   "source": [
    "Étant donné un tableau d'entiers `tab`, écrire une fonction qui modifie ce tableau de manière à ce qu'il contienne les mêmes éléments mais dans l'ordre suivant : le plus petit, le plus grand, le deuxième plus petit, le deuxième plus grand, le troisième plus petit, le troisième plus grand, etc.\n",
    "\n",
    "\n",
    "\n",
    "Par exemple si `tab=[5, 8, 1, 4, 2, 9, 3, 7, 6]` alors après appel de la fonction, il doit égal à `[1, 9, 2, 8, 3, 7, 4, 6, 5]`.\n",
    "\n",
    "*Indication* : on peut utiliser les fonctions `copy` et `sort` des listes python pour créer une copie triée."
   ]
  },
  {
   "cell_type": "code",
   "execution_count": null,
   "id": "1f3dfd12",
   "metadata": {
    "tags": [
     "answer"
    ]
   },
   "outputs": [],
   "source": [
    "############################## \n",
    "#   Saisir votre code ici.   #\n",
    "##############################\n",
    "\n",
    "\n"
   ]
  }
 ],
 "metadata": {
  "kernelspec": {
   "display_name": "Python 3",
   "language": "python",
   "name": "python3"
  },
  "language_info": {
   "codemirror_mode": {
    "name": "ipython",
    "version": 3
   },
   "file_extension": ".py",
   "mimetype": "text/x-python",
   "name": "python",
   "nbconvert_exporter": "python",
   "pygments_lexer": "ipython3",
   "version": "3.8.5"
  }
 },
 "nbformat": 4,
 "nbformat_minor": 5
}
