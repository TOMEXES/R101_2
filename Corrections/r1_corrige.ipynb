{
 "cells": [
  {
   "cell_type": "markdown",
   "id": "d086a9e4",
   "metadata": {
    "deletable": false,
    "editable": false,
    "run_control": {
     "frozen": true
    }
   },
   "source": [
    "# Révisions 1 - Correction"
   ]
  },
  {
   "cell_type": "markdown",
   "id": "201a3e11",
   "metadata": {
    "deletable": false,
    "editable": false,
    "run_control": {
     "frozen": true
    }
   },
   "source": [
    "## Compression de tableaux\n",
    "\n",
    "Un tableau de 0 et de 1 (par exemple un tableau encodant une image en noir est blanc) peut être compressé en indiquant le nombre de 0 consécutifs suivi du nombre de 1 consécutifs, etc.\n",
    "Par exemple, le tableau \n",
    "```python\n",
    "[ 0, 0, 0, 1, 0, 0, 0, 0, 0, 0, 1, 1, 1, 1, 0, 0, 1, 1, 1, 1, 1, 1, 1, 1]\n",
    "```\n",
    "peut être compressé en le tableau :\n",
    "```python\n",
    "[3, 1, 6, 4, 2, 8]\n",
    "```\n",
    "\n",
    "### Question 1\n",
    "\n",
    "Définir la fonction `compression` prenant en paramètre un tableau de 0 et 1 et retournant un tableau correspondant à la compression de ce tableau. Vérifiez que votre fonction passe les tests unitaires ci-dessous."
   ]
  },
  {
   "cell_type": "code",
   "execution_count": null,
   "id": "e73f023d",
   "metadata": {
    "tags": [
     "answer"
    ]
   },
   "outputs": [],
   "source": [
    "##################\n",
    "#   Correction   #\n",
    "##################\n",
    "\n",
    "\n",
    "def compression(tab):\n",
    "    c = []\n",
    "    chiffre = 0\n",
    "    compteur = 0\n",
    "    i = 0\n",
    "    while i < len(tab):\n",
    "        if tab[i] != chiffre:\n",
    "            c.append(compteur)\n",
    "            if chiffre == 0:\n",
    "                chiffre = 1\n",
    "            else:\n",
    "                chiffre = 0\n",
    "            compteur = 1\n",
    "        else:\n",
    "            compteur += 1\n",
    "        i += 1\n",
    "    c.append(compteur)\n",
    "    return c"
   ]
  },
  {
   "cell_type": "code",
   "execution_count": null,
   "id": "7bccaaf7",
   "metadata": {},
   "outputs": [],
   "source": [
    "def test_compression():\n",
    "    assert compression([0, 0, 0, 0]) == [4]\n",
    "    assert compression([1, 1, 1, 1]) == [0, 4]\n",
    "    assert compression([ 0, 0, 0, 1, 0, 0, 0, 0, 0, 0, 1, 1, 1, 1, 0, 0, 1, 1, 1, 1, 1, 1, 1, 1]) == [3, 1, 6, 4, 2, 8]\n",
    "    print(\"Test de la fonction compression : ok\")\n",
    "    \n",
    "test_compression()"
   ]
  },
  {
   "cell_type": "markdown",
   "id": "3f349991",
   "metadata": {
    "deletable": false,
    "editable": false,
    "run_control": {
     "frozen": true
    }
   },
   "source": [
    "### Question 2\n",
    "\n",
    "Quelle est la complexité asymptotique de cette fonction ?"
   ]
  },
  {
   "cell_type": "markdown",
   "id": "1787d0b1",
   "metadata": {
    "deletable": false,
    "editable": false,
    "run_control": {
     "frozen": true
    },
    "tags": [
     "answer"
    ]
   },
   "source": [
    "**CORRECTION :**\n",
    "\n",
    "\n",
    "La complexité est linéaire. En effet, on parcourt une fois le tableau passé en paramètre. Pour chaque case, on effectue dans le pire cas un nombre constant de comparaisons, incrémentations, affectations et un ajout en fin de tableau. Ces opérations sont considérées comme élémentaires. On a donc une complexité constante par itération."
   ]
  },
  {
   "cell_type": "markdown",
   "id": "4aed0c05",
   "metadata": {
    "deletable": false,
    "editable": false,
    "run_control": {
     "frozen": true
    }
   },
   "source": [
    "### Question 3\n",
    "\n",
    "Définir la fonction `decompression` prenant en paramètre un tableau compressé et retournant le tableau compressé (inverse de la fonction compression). Vérifiez que votre fonction vérifie les tests unitaires ci-dessous.\n"
   ]
  },
  {
   "cell_type": "code",
   "execution_count": null,
   "id": "9d8c3f78",
   "metadata": {
    "tags": [
     "answer"
    ]
   },
   "outputs": [],
   "source": [
    "##################\n",
    "#   Correction   #\n",
    "##################\n",
    "\n",
    "\n",
    "def decompression(c):\n",
    "    tab = []\n",
    "    i = 0\n",
    "    chiffre = 0\n",
    "    while i < len(c):\n",
    "        j = 0\n",
    "        while j < c[i]:\n",
    "            tab.append(chiffre)\n",
    "            j += 1\n",
    "        if chiffre == 0:\n",
    "            chiffre = 1\n",
    "        else:\n",
    "            chiffre = 0\n",
    "        i += 1\n",
    "    return tab"
   ]
  },
  {
   "cell_type": "code",
   "execution_count": null,
   "id": "fb00971a",
   "metadata": {},
   "outputs": [],
   "source": [
    "def test_decompression():\n",
    "    assert decompression([4]) == [0, 0, 0, 0]\n",
    "    assert decompression([0, 4]) == [1, 1, 1, 1]\n",
    "    assert decompression([3, 1, 6, 4, 2, 8]) == [ 0, 0, 0, 1, 0, 0, 0, 0, 0, 0, 1, 1, 1, 1, 0, 0, 1, 1, 1, 1, 1, 1, 1, 1]\n",
    "    \n",
    "    assert decompression(compression([0, 0, 1, 1, 1])) == [0, 0, 1, 1, 1]\n",
    "    print(\"Test de la fonction decompression : ok\")\n",
    "test_decompression()"
   ]
  },
  {
   "cell_type": "markdown",
   "id": "10d57ae5",
   "metadata": {
    "deletable": false,
    "editable": false,
    "run_control": {
     "frozen": true
    }
   },
   "source": [
    "## Exercice 2\n",
    "\n",
    "La méthode de Condorcet est un système de vote dans lequel l'unique vainqueur, s'il existe, est le candidat qui, comparé tour à tour à chacun des autres candidats, s'avérerait à chaque fois être le candidat préféré. Un tel candidat est appelé vainqueur de Condorcet *(issu de wikipedia)*.\n",
    "\n",
    "On suppose que l'on a `k` candidats (numérotés de 0 à `k-1`) et `n` votants. Chaque votant établit un classement des candidats. Pour cela, on suppose qu'il les ordonne de 1 (préféré) à `k` (pire choix). Ce choix sera représenté sous forme d'un tableau : la valeur de la case numéro $i$ indiquera la position du candidat  numéro $i$ dans le classement.\n",
    "\n",
    "Par exemple, si l'on a 3 candidats, un vote pourrait être `[2, 1, 3]` indiquant que le votant préfère le candidat numéro 1, puis le candidat numéro 0 puis le candidat numéro 2.\n",
    "\n",
    "L'ensemble des votes est stocké dans un tableau : chaque case est un tableau correspondant à un vote. Ainsi, si l'on a 3 candidats et 5 votants, l'ensemble des votes pourrait être :"
   ]
  },
  {
   "cell_type": "code",
   "execution_count": null,
   "id": "52fc6026",
   "metadata": {},
   "outputs": [],
   "source": [
    "votes = [\n",
    "    [2, 1, 3],\n",
    "    [1, 2, 3],\n",
    "    [2, 3, 1],\n",
    "    [2, 1, 3],\n",
    "    [3, 2, 1]\n",
    "]"
   ]
  },
  {
   "cell_type": "markdown",
   "id": "1d6853ee",
   "metadata": {
    "deletable": false,
    "editable": false,
    "run_control": {
     "frozen": true
    }
   },
   "source": [
    "### Question 1\n",
    "\n",
    "Définir la fonction `voteValide` prenant en paramètre un vote (tableau avec les préférences des candidats d'un votant), et retournant `True` si ce vote est valide, et `False` sinon.\n",
    "\n",
    "Un vote est dit valide s'il définit un ordre total sur les candidats. Autrement dit, tous les entiers entre 1 et `k` doivent apparaître exactement une fois. Par exemple, l'appel de la fonction `voteValide` doit retourner\n",
    "`True` pour le vote `[2, 1, 3]`, et `False` pour les votes `[3, -1, 2]` et `[3, 3, 1]`.\n",
    "\n",
    "\n",
    "**Marche à suivre :** Pour être efficace, la fonction créera un tableau `nb` ayant `k` + 1 cases. Chaque case d'indice `i` sera initialisée à `False` et sera mise à `True` lorsque le nombre `i` sera rencontré dans le vote."
   ]
  },
  {
   "cell_type": "code",
   "execution_count": null,
   "id": "1fc9547b",
   "metadata": {
    "tags": [
     "answer"
    ]
   },
   "outputs": [],
   "source": [
    "##################\n",
    "#   Correction   #\n",
    "##################\n",
    "\n",
    "\n",
    "def voteValide(vote):\n",
    "    nb = []\n",
    "    i = 0\n",
    "    while i <= len(vote):\n",
    "        nb.append(False)\n",
    "        i += 1\n",
    "    i = 0\n",
    "    while i < len(vote) and 1 <= vote[i] <= len(vote) and not(nb[vote[i]]):\n",
    "        nb[vote[i]] = True\n",
    "        i += 1\n",
    "\n",
    "    return i == len(vote)"
   ]
  },
  {
   "cell_type": "markdown",
   "id": "6f4677ce",
   "metadata": {
    "deletable": false,
    "editable": false,
    "run_control": {
     "frozen": true
    }
   },
   "source": [
    "## Question 2\n",
    "Définir une fonction `ensVotesValide` prenant en paramètre un\n",
    "ensemble de votes et retournant `True` si tous les votes de\n",
    "l'ensemble sont valides, et `False` sinon."
   ]
  },
  {
   "cell_type": "code",
   "execution_count": null,
   "id": "700a12b1",
   "metadata": {
    "tags": [
     "answer"
    ]
   },
   "outputs": [],
   "source": [
    "##################\n",
    "#   Correction   #\n",
    "##################\n",
    "\n",
    "\n",
    "def ensVotesValide(tabVotes):\n",
    "    i = 0\n",
    "    while i < len(tabVotes) and voteValide(tabVotes[i]):\n",
    "        i += 1\n",
    "    return i == len(tabVotes)"
   ]
  },
  {
   "cell_type": "markdown",
   "id": "af11e514",
   "metadata": {
    "deletable": false,
    "editable": false,
    "run_control": {
     "frozen": true
    }
   },
   "source": [
    "### Question 3\n",
    "\n",
    "Définir une fonction `bat` prenant en paramètre un ensemble de votes et deux indices de candidats et retournant `True` si le premier candidat bat le deuxième (est préféré par une majorité stricte des votants), et `False` sinon. Attention, en cas d'égalité, la fonction doit retourner `False`."
   ]
  },
  {
   "cell_type": "code",
   "execution_count": null,
   "id": "5d30373c",
   "metadata": {
    "tags": [
     "answer"
    ]
   },
   "outputs": [],
   "source": [
    "##################\n",
    "#   Correction   #\n",
    "##################\n",
    "\n",
    "\n",
    "def bat(tabVotes, c1, c2):\n",
    "    c1PrefereC2 = 0\n",
    "    # Pour chaque votant\n",
    "    i = 0\n",
    "    while i < len(tabVotes):\n",
    "        # Si le votant i préfère c1 à c2\n",
    "        if tabVotes[i][c1] < tabVotes[i][c2]:\n",
    "            c1PrefereC2 += 1\n",
    "        i += 1\n",
    "    return c1PrefereC2 > len(tabVotes) - c1PrefereC2"
   ]
  },
  {
   "cell_type": "markdown",
   "id": "64708946",
   "metadata": {
    "deletable": false,
    "editable": false,
    "run_control": {
     "frozen": true
    }
   },
   "source": [
    "### Question 4\n",
    "\n",
    "Définir la fonction `estGagnant` prenant en paramètre un ensemble de votes et l'indice d'un candidat, et retournant `True` si ce candidat est le gagnant de Condorcet, et `False` sinon."
   ]
  },
  {
   "cell_type": "code",
   "execution_count": null,
   "id": "2a3515dc",
   "metadata": {
    "tags": [
     "answer"
    ]
   },
   "outputs": [],
   "source": [
    "##################\n",
    "#   Correction   #\n",
    "##################\n",
    "\n",
    "\n",
    "def estGagnant(tabVotes, c):\n",
    "    nbCandidats = len(tabVotes[0])\n",
    "    j = 0\n",
    "    while j < nbCandidats and (j == c or bat(tabVotes,c,j)):\n",
    "        j += 1\n",
    "    return j == nbCandidats\n"
   ]
  },
  {
   "cell_type": "markdown",
   "id": "384b9883",
   "metadata": {
    "deletable": false,
    "editable": false,
    "run_control": {
     "frozen": true
    }
   },
   "source": [
    "### Question 5\n",
    "\n",
    "Définir la fonction `gagnant` prenant en paramètre un ensemble de votes. La fonction retourne -1 si l'ensemble de votes est vide, s'il contient des votes non valides ou s'il n'y a pas de vainqueur de Condorcet. Il retourne sinon l'indice du vainqueur de Condorcet. Vérifier sur le tableau de votes `votes` défini en début d'exercice s'il existe un gagnant de Condorcet."
   ]
  },
  {
   "cell_type": "code",
   "execution_count": null,
   "id": "aca2c952",
   "metadata": {
    "tags": [
     "answer"
    ]
   },
   "outputs": [],
   "source": [
    "##################\n",
    "#   Correction   #\n",
    "##################\n",
    "\n",
    "\n",
    "def gagnant(tabVotes):\n",
    "    if len(tabVotes) == 0 or not ensVotesValide(tabVotes):\n",
    "        return -1\n",
    "\n",
    "    nbCandidats = len(tabVotes[0])\n",
    "\n",
    "    j = 0\n",
    "    while j < nbCandidats and not estGagnant(tabVotes,j):\n",
    "        j += 1\n",
    "\n",
    "    if j == nbCandidats:\n",
    "        return -1\n",
    "    else:\n",
    "        return j\n",
    "    \n",
    "ind = gagnant(votes)\n",
    "if ind == -1:\n",
    "    print(\"Pas de gagnant de condorcet\")\n",
    "else:\n",
    "    print(\"Le candidat\", ind, \"est le gagnant de Condorcet\")"
   ]
  }
 ],
 "metadata": {
  "kernelspec": {
   "display_name": "Python 3",
   "language": "python",
   "name": "python3"
  },
  "language_info": {
   "codemirror_mode": {
    "name": "ipython",
    "version": 3
   },
   "file_extension": ".py",
   "mimetype": "text/x-python",
   "name": "python",
   "nbconvert_exporter": "python",
   "pygments_lexer": "ipython3",
   "version": "3.8.10"
  }
 },
 "nbformat": 4,
 "nbformat_minor": 5
}
